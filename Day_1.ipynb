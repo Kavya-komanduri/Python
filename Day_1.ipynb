{
 "cells": [
  {
   "cell_type": "code",
   "execution_count": 1,
   "id": "be5a9b71",
   "metadata": {},
   "outputs": [
    {
     "name": "stdout",
     "output_type": "stream",
     "text": [
      "Hello, World!\n"
     ]
    }
   ],
   "source": [
    "#Write a Python program to print \"Hello, World!\"\n",
    "print(\"Hello, World!\")"
   ]
  },
  {
   "cell_type": "code",
   "execution_count": 9,
   "id": "595bf4ed",
   "metadata": {},
   "outputs": [
    {
     "name": "stdout",
     "output_type": "stream",
     "text": [
      "please enter the input1 value10\n",
      "please enter the input2 value20\n",
      "sum of two numbers: 30\n"
     ]
    }
   ],
   "source": [
    "#Calculate the sum of two numbers entered by the user\n",
    "input1= int(input(\"please enter the input1 value\")) #type casted to read integer value  from user  \n",
    "input2= int(input(\"please enter the input2 value\"))\n",
    "sum_of_two = input1+input2\n",
    "print(\"sum of two numbers:\" , sum_of_two)"
   ]
  },
  {
   "cell_type": "code",
   "execution_count": 10,
   "id": "7d449bdc",
   "metadata": {},
   "outputs": [
    {
     "name": "stdout",
     "output_type": "stream",
     "text": [
      "please enter the temperature in celsisus100\n",
      "Temperature in Fahrenheit is: 212.0\n"
     ]
    }
   ],
   "source": [
    "#Convert temperature from Celsius to Fahrenheit\n",
    "Celsius = float(input(\"Please enter the temperature in celsisus\"))\n",
    "Fahrenheit = (Celsius*(9/5))+32\n",
    "print(\"Temperature in Fahrenheit is:\", Fahrenheit)"
   ]
  },
  {
   "cell_type": "code",
   "execution_count": 8,
   "id": "be280e82",
   "metadata": {},
   "outputs": [
    {
     "name": "stdout",
     "output_type": "stream",
     "text": [
      "please enter the length of a rectangle 10\n",
      "please enter the width of a rectangle 20\n",
      "Area of rectangle is: 200.0\n"
     ]
    }
   ],
   "source": [
    "#Write a Python program to calculate the area of a rectangle given its length and width.\n",
    "\n",
    "length = float(input(\"please enter the length of a rectangle \" ))\n",
    "width = float(input(\"please enter the width of a rectangle \" ))\n",
    "Area_Of_Rectangle = length * width\n",
    "print(\"Area of rectangle is:\",  Area_Of_Rectangle)\n",
    "\n",
    "\n",
    "\n"
   ]
  },
  {
   "cell_type": "code",
   "execution_count": 22,
   "id": "59f2309e",
   "metadata": {},
   "outputs": [
    {
     "name": "stdout",
     "output_type": "stream",
     "text": [
      "Please enter your name:kavya\n",
      "Please enter your age:26\n",
      "Hi kavya ,\n",
      " Wish you a very happy 26 birthday!!\n"
     ]
    }
   ],
   "source": [
    "# Create a program that takes a user's name and age as input and prints a greeting message.\n",
    "name = input(\"Please enter your name:\")\n",
    "age =  int(input(\"Please enter your age:\"))\n",
    "print(\"Hi\", name,\",\\n\", \"Wish you a very happy\",age, \"birthday!!\")\n"
   ]
  },
  {
   "cell_type": "code",
   "execution_count": 25,
   "id": "c73a1966",
   "metadata": {},
   "outputs": [
    {
     "name": "stdout",
     "output_type": "stream",
     "text": [
      "enter your input number5\n",
      "given number is odd number\n"
     ]
    }
   ],
   "source": [
    "#Write a program to check if a number is even or odd\n",
    "num = int(input(\"enter your input number\"))\n",
    "if(num%2 == 0):\n",
    "    print(\"given number is even number\")\n",
    "else:\n",
    "    print(\"given number is odd number\")"
   ]
  },
  {
   "cell_type": "code",
   "execution_count": 32,
   "id": "20c4d29c",
   "metadata": {},
   "outputs": [
    {
     "name": "stdout",
     "output_type": "stream",
     "text": [
      "10\n",
      "2\n",
      "0.2\n",
      "min value of a list: 2 \t max value of a list: 10\n"
     ]
    }
   ],
   "source": [
    "#Given a list of numbers, find the maximum and minimum values\n",
    "try:\n",
    "    list_values = []\n",
    "\n",
    "    while True:\n",
    "        list_values.append(int(input()))\n",
    "    \n",
    "except:\n",
    "    print(\"min value of a list:\" , min(list_values), \"\\t\", \"max value of a list:\" , max(list_values))\n",
    "    \n",
    "    \n",
    "    \n",
    "    \n",
    "    "
   ]
  },
  {
   "cell_type": "code",
   "execution_count": 39,
   "id": "202d01b7",
   "metadata": {},
   "outputs": [
    {
     "name": "stdout",
     "output_type": "stream",
     "text": [
      "please enter your input stringcarr\n",
      "given string is not a palindrome\n"
     ]
    }
   ],
   "source": [
    "#Create a Python function to check if a given string is a palindrome\n",
    "#Method-1:\n",
    "def palindrome(str_value):\n",
    "    if(str_value==str_value[::-1]):\n",
    "        print(\"given string is  a palindrome\")\n",
    "    else:\n",
    "        print(\"given string is not a palindrome\")\n",
    "        \n",
    "palindrome(input(\"please enter your input string\"))\n",
    "\n",
    "#Method-2: Using ternary operator:\n",
    "def palindrome(str_value):\n",
    "        print(\"given string is  a palindrome\" if str_value==str_value[::-1] else \"given string is not a palindrome\")\n",
    "palindrome(input(\"please enter your input string\"))"
   ]
  },
  {
   "cell_type": "code",
   "execution_count": 46,
   "id": "c1a9ba2d",
   "metadata": {},
   "outputs": [
    {
     "name": "stdout",
     "output_type": "stream",
     "text": [
      "please enter the principal amount1000\n",
      "please enter the time period2\n",
      "please enter the interest rate10\n",
      "Calculated compound interest is: 210.00000000000023\n"
     ]
    }
   ],
   "source": [
    "#Calculate the compound interest for a given principal amount, interest rate, and time period\n",
    "\n",
    "def cal_compound_interest(p,t,r):\n",
    "    total_amount = p*(pow((1+r/100),t))#caluclating the total amount \n",
    "    compound_interest = total_amount - p\n",
    "    print(\"Calculated compound interest is:\", compound_interest)\n",
    "    \n",
    "principal_amount = float(input(\"please enter the principal amount\"))\n",
    "time_period = float(input(\"please enter the time period\"))\n",
    "interest_rate = float(input(\"please enter the interest rate\"))\n",
    "    \n",
    "cal_compound_interest(principal_amount,time_period,interest_rate)\n"
   ]
  },
  {
   "cell_type": "code",
   "execution_count": 5,
   "id": "fa008267",
   "metadata": {},
   "outputs": [
    {
     "name": "stdout",
     "output_type": "stream",
     "text": [
      "enter the number of days 700\n",
      "number of years 1\n",
      "number of weeks 47\n",
      "number of days 6\n"
     ]
    }
   ],
   "source": [
    "#Write a program that converts a given number of days into years, weeks, and days\n",
    "    days = int(input(\"enter the number of days \"))\n",
    "    def cal_years(year):\n",
    "        num_of_years= (days//year)  \n",
    "        print(\"number of years\",num_of_years)\n",
    "        weeks = int((days%year)/week)\n",
    "        print(\"number of weeks\",weeks)\n",
    "        number_of_days = (days%year)%week\n",
    "        print(\"number of days\",number_of_days)\n",
    "           \n",
    "    year = 365\n",
    "    week = 7\n",
    "    cal_years(year)\n",
    "\n"
   ]
  },
  {
   "cell_type": "code",
   "execution_count": 16,
   "id": "c0eefaa4",
   "metadata": {},
   "outputs": [
    {
     "name": "stdout",
     "output_type": "stream",
     "text": [
      "enter the list of numbers1\n",
      "enter the list of numbers2\n",
      "enter the list of numbers3\n",
      "enter the list of numbers-4\n",
      "enter the list of numbers4\n",
      "enter the list of numbers-100\n",
      "enter the list of numbers5\n",
      "enter the list of numbers0.2\n",
      "15\n"
     ]
    }
   ],
   "source": [
    "#Given a list of integers, find the sum of all positive numbers.\n",
    "try:\n",
    "    list_of_integers=[]\n",
    "    sum_post_num=0\n",
    "\n",
    "    while True:\n",
    "          list_of_integers.append(int(input(\"enter the list of numbers\")))\n",
    "\n",
    "except:\n",
    "        for i in list_of_integers:\n",
    "            if(i>0):\n",
    "                sum_post_num = i+sum_post_num;\n",
    "print(sum_post_num)       \n",
    "\n"
   ]
  },
  {
   "cell_type": "code",
   "execution_count": 27,
   "id": "01a9156b",
   "metadata": {},
   "outputs": [
    {
     "name": "stdout",
     "output_type": "stream",
     "text": [
      "enter your stringCreate a program that takes a sentence as input and counts the number of words in it.\n",
      "17\n"
     ]
    }
   ],
   "source": [
    "#Create a program that takes a sentence as input and counts the number of words in it.\n",
    "string = input(\"enter your string\")\n",
    "\n",
    "print(len(string.split()))\n"
   ]
  },
  {
   "cell_type": "code",
   "execution_count": 31,
   "id": "e84b30ba",
   "metadata": {},
   "outputs": [
    {
     "name": "stdout",
     "output_type": "stream",
     "text": [
      "enter value1: 10\n",
      "enter value2:20\n",
      "values before swaping: 10 20\n",
      "values before swaping: 20 10\n"
     ]
    }
   ],
   "source": [
    "# Implement a program that swaps the values of two variables\n",
    "\n",
    "a = int(input(\"enter value1: \"))\n",
    "b = int(input(\"enter value2:\"))\n",
    "print(\"values before swaping:\",a,b)\n",
    "temp = b\n",
    "b=a\n",
    "print(\"values after swaping:\",temp,b)"
   ]
  },
  {
   "cell_type": "code",
   "execution_count": null,
   "id": "3c50f71d",
   "metadata": {},
   "outputs": [],
   "source": []
  }
 ],
 "metadata": {
  "celltoolbar": "Raw Cell Format",
  "kernelspec": {
   "display_name": "Python 3 (ipykernel)",
   "language": "python",
   "name": "python3"
  },
  "language_info": {
   "codemirror_mode": {
    "name": "ipython",
    "version": 3
   },
   "file_extension": ".py",
   "mimetype": "text/x-python",
   "name": "python",
   "nbconvert_exporter": "python",
   "pygments_lexer": "ipython3",
   "version": "3.10.9"
  }
 },
 "nbformat": 4,
 "nbformat_minor": 5
}
